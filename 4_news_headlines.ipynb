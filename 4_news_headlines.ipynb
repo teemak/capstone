{
 "cells": [
  {
   "cell_type": "markdown",
   "id": "9a0a9d00-88c3-495f-a2a9-5c6f6dbf36e8",
   "metadata": {
    "tags": []
   },
   "source": [
    "## Imports and Data Sources"
   ]
  },
  {
   "cell_type": "code",
   "execution_count": 1,
   "id": "daf9cbfe-a0c9-42bc-91a3-6909402422ac",
   "metadata": {
    "tags": []
   },
   "outputs": [],
   "source": [
    "import pandas as pd\n",
    "\n",
    "from transformers import AutoTokenizer\n",
    "from transformers import AutoModelForSequenceClassification\n",
    "from scipy.special import softmax\n",
    "from nltk.sentiment import SentimentIntensityAnalyzer"
   ]
  },
  {
   "cell_type": "code",
   "execution_count": 2,
   "id": "36bb8f65-9773-48fb-bd5e-23b6c211743d",
   "metadata": {},
   "outputs": [],
   "source": [
    "news_df = pd.read_csv('data/news.csv').set_index('Date')\n",
    "news_df.drop(columns=['Unnamed: 0', 'Label'], inplace=True)"
   ]
  },
  {
   "cell_type": "code",
   "execution_count": 3,
   "id": "c7dd5aa9-2781-4ead-9d49-84d18c6c0da0",
   "metadata": {},
   "outputs": [],
   "source": [
    "MODEL = f\"cardiffnlp/twitter-roberta-base-sentiment\"\n",
    "tokenizer = AutoTokenizer.from_pretrained(MODEL)\n",
    "model = AutoModelForSequenceClassification.from_pretrained(MODEL)"
   ]
  },
  {
   "cell_type": "code",
   "execution_count": 4,
   "id": "c0515c0c-f5d8-4b0d-a7f2-cbff75241916",
   "metadata": {
    "tags": []
   },
   "outputs": [],
   "source": [
    "df = news_df\n",
    "chunk_size = 513\n",
    "num_chunks = len(df) // chunk_size + (1 if len(df) % chunk_size != 0 else 0)\n",
    "\n",
    "chunks = []\n",
    "for i in range(num_chunks):\n",
    "    start_index = i * chunk_size\n",
    "    end_index = min((i + 1) * chunk_size, len(df))\n",
    "    chunk = df.iloc[start_index:end_index]\n",
    "    chunks.append(chunk)"
   ]
  },
  {
   "cell_type": "code",
   "execution_count": 5,
   "id": "d434a5c6-f3ed-4c44-9d19-838c33b77453",
   "metadata": {},
   "outputs": [],
   "source": [
    "# Break into chunks for debugging\n",
    "for i in range(8):\n",
    "    globals()[f\"df{i+1}\"] = chunks[i].copy()"
   ]
  },
  {
   "cell_type": "code",
   "execution_count": 39,
   "id": "230a5a8a-7738-42a7-a4ba-f1250b88bab0",
   "metadata": {
    "tags": []
   },
   "outputs": [],
   "source": [
    "# Map sentiment scores to dataframe\n",
    "def aggregate_dicts_to_mean(dict_list, verbose = False):\n",
    "    sums = {key: 0.0 for key in dict_list[0].keys()}\n",
    "    counts = {key: 0 for key in dict_list[0].keys()}\n",
    "    \n",
    "    for d in dict_list:\n",
    "        for key in d.keys():\n",
    "            sums[key] += d[key]\n",
    "            counts[key] += 1\n",
    "    \n",
    "    means = {key: sums[key] / counts[key] for key in sums.keys()}\n",
    "    if verbose:\n",
    "        print(f\"{means}\")\n",
    "    return means"
   ]
  },
  {
   "cell_type": "code",
   "execution_count": 40,
   "id": "543a546d-7579-47f1-87e3-f60c98f4e179",
   "metadata": {
    "tags": []
   },
   "outputs": [],
   "source": [
    "# Get sentiment score from headline\n",
    "def polarity_scores_roberta(example):\n",
    "    encoded_text = tokenizer(example, return_tensors='pt')\n",
    "    output = model(**encoded_text)\n",
    "    scores = output[0][0].detach().numpy()\n",
    "    scores = softmax(scores)    \n",
    "    \n",
    "    scores_dict = {\n",
    "        'neg' : scores[0],\n",
    "        'neu' : scores[1],\n",
    "        'pos' : scores[2],\n",
    "    }\n",
    "    \n",
    "    return scores_dict"
   ]
  },
  {
   "cell_type": "code",
   "execution_count": 41,
   "id": "b050d120-466a-4781-acd0-b17bf0743260",
   "metadata": {
    "tags": []
   },
   "outputs": [],
   "source": [
    "headline_cols = 25\n",
    "polarity_scores = []\n",
    "\n",
    "# Get mean sentiment of all headlines for that day\n",
    "def mean_roberta_score(row, max_iterations=headline_cols):\n",
    "    scores = []\n",
    "    for i in range(max_iterations):\n",
    "        try:\n",
    "            text = row.values[i]\n",
    "            score = polarity_scores_roberta(text)\n",
    "            scores.append(score)\n",
    "\n",
    "            if i >= max_iterations-1:            \n",
    "                result = aggregate_dicts_to_mean(scores)\n",
    "                polarity_scores.append(result)\n",
    "                scores = []\n",
    "        except RuntimeError:\n",
    "            print(f'Error with: {text} on row: {row} for index: {i}.')"
   ]
  },
  {
   "cell_type": "code",
   "execution_count": 42,
   "id": "67d88a05-5893-4f87-9521-e33e0b9b636b",
   "metadata": {},
   "outputs": [
    {
     "data": {
      "text/plain": [
       "{'neg': 0.0, 'neu': 0.446, 'pos': 0.554, 'compound': 0.7163}"
      ]
     },
     "execution_count": 42,
     "metadata": {},
     "output_type": "execute_result"
    }
   ],
   "source": [
    "# Sentiment test\n",
    "text1 = 'Blah blah blah, I am so sleepy... >:('\n",
    "text2 = 'I believe the weather will windy today.'\n",
    "text3 = 'WHAT IS SUP EVERYONE, AWESOME!!!'\n",
    "\n",
    "sia = SentimentIntensityAnalyzer()\n",
    "sia.polarity_scores(text3)"
   ]
  },
  {
   "cell_type": "code",
   "execution_count": 10,
   "id": "688d0e32-a537-42f2-aaca-360eb6287b00",
   "metadata": {},
   "outputs": [
    {
     "data": {
      "text/plain": [
       "{'neg': 0.004427868, 'neu': 0.02399209, 'pos': 0.9715801}"
      ]
     },
     "execution_count": 10,
     "metadata": {},
     "output_type": "execute_result"
    }
   ],
   "source": [
    "polarity_scores_roberta(text3)"
   ]
  },
  {
   "cell_type": "code",
   "execution_count": 11,
   "id": "d5b24938-62aa-4036-81d4-299f685b3389",
   "metadata": {
    "tags": []
   },
   "outputs": [],
   "source": [
    "# Chunk 5 missing headlines\n",
    "df5[df5.isnull().any(axis=1)]\n",
    "\n",
    "prev_day = df5.loc['2009-09-11', 'Top23']\n",
    "prev_day1 = df5.loc['2009-09-14', 'Top24']\n",
    "next_day = df5.loc['2009-09-16', 'Top25']\n",
    "\n",
    "df5.loc['2009-09-15', 'Top23'] = prev_day\n",
    "df5.loc['2009-09-15', 'Top24'] = prev_day1\n",
    "df5.loc['2009-09-15', 'Top25'] = next_day\n",
    "\n",
    "prev_day2 = df5.loc['2009-09-23', 'Top24']\n",
    "next_day2 = df5.loc['2009-09-28', 'Top25']\n",
    "\n",
    "df5.loc['2009-12-24', 'Top24'] = prev_day2\n",
    "df5.loc['2009-12-24', 'Top25'] = next_day2"
   ]
  },
  {
   "cell_type": "code",
   "execution_count": 12,
   "id": "db78e863-ee3f-4790-822a-9515df9710fe",
   "metadata": {
    "tags": []
   },
   "outputs": [],
   "source": [
    "# Chunk 6 missing headlines\n",
    "prev_day = df6.loc['2011-04-20', 'Top24']\n",
    "next_day = df6.loc['2011-04-25', 'Top25']\n",
    "df6.loc['2011-04-21', 'Top24'] = prev_day\n",
    "df6.loc['2011-04-21', 'Top25'] = next_day"
   ]
  },
  {
   "cell_type": "code",
   "execution_count": 13,
   "id": "394edd10-bc30-4d6d-8e4d-0bb960081eeb",
   "metadata": {
    "tags": []
   },
   "outputs": [
    {
     "data": {
      "text/plain": [
       "Date\n",
       "2000-01-03    None\n",
       "2000-01-04    None\n",
       "2000-01-05    None\n",
       "2000-01-06    None\n",
       "2000-01-07    None\n",
       "              ... \n",
       "2002-01-24    None\n",
       "2002-01-25    None\n",
       "2002-01-28    None\n",
       "2002-01-29    None\n",
       "2002-01-30    None\n",
       "Length: 513, dtype: object"
      ]
     },
     "execution_count": 13,
     "metadata": {},
     "output_type": "execute_result"
    }
   ],
   "source": [
    "#1\n",
    "polarity_scores = []\n",
    "df1 = df1.T\n",
    "df1.apply(mean_roberta_score, axis=0)"
   ]
  },
  {
   "cell_type": "code",
   "execution_count": 14,
   "id": "d69cd9a2-998a-419c-aff5-de8d5b33cbc6",
   "metadata": {
    "tags": []
   },
   "outputs": [],
   "source": [
    "#1\n",
    "neg_vals = [m['neg'] for m in polarity_scores]\n",
    "neu_vals = [m['neu'] for m in polarity_scores]\n",
    "pos_vals = [m['pos'] for m in polarity_scores]"
   ]
  },
  {
   "cell_type": "code",
   "execution_count": 15,
   "id": "059db32f-48bd-4426-905e-e3e313e18bdb",
   "metadata": {
    "tags": []
   },
   "outputs": [],
   "source": [
    "#1\n",
    "df1 = df1.T\n",
    "df1['negative'] = neg_vals\n",
    "df1['neutral'] = neu_vals\n",
    "df1['positive'] = pos_vals"
   ]
  },
  {
   "cell_type": "code",
   "execution_count": 16,
   "id": "b67cc79a-e9fc-475a-92bb-488e00b227ca",
   "metadata": {
    "tags": []
   },
   "outputs": [
    {
     "data": {
      "text/plain": [
       "Date\n",
       "2002-01-31    None\n",
       "2002-02-01    None\n",
       "2002-02-04    None\n",
       "2002-02-05    None\n",
       "2002-02-06    None\n",
       "              ... \n",
       "2004-03-26    None\n",
       "2004-03-29    None\n",
       "2004-03-30    None\n",
       "2004-03-31    None\n",
       "2004-04-01    None\n",
       "Length: 513, dtype: object"
      ]
     },
     "execution_count": 16,
     "metadata": {},
     "output_type": "execute_result"
    }
   ],
   "source": [
    "#2\n",
    "polarity_scores = []\n",
    "df2 = df2.T\n",
    "df2.apply(mean_roberta_score, axis=0)"
   ]
  },
  {
   "cell_type": "code",
   "execution_count": 17,
   "id": "75a247ca-9897-4b60-88e8-433fafb9ae0c",
   "metadata": {
    "tags": []
   },
   "outputs": [],
   "source": [
    "#2\n",
    "neg_vals = [m['neg'] for m in polarity_scores]\n",
    "neu_vals = [m['neu'] for m in polarity_scores]\n",
    "pos_vals = [m['pos'] for m in polarity_scores]"
   ]
  },
  {
   "cell_type": "code",
   "execution_count": 18,
   "id": "f202946b-6651-42af-9958-7ecba4eb11a9",
   "metadata": {},
   "outputs": [],
   "source": [
    "#2\n",
    "df2 = df2.T\n",
    "df2['negative'] = neg_vals\n",
    "df2['neutral'] = neu_vals\n",
    "df2['positive'] = pos_vals"
   ]
  },
  {
   "cell_type": "code",
   "execution_count": 19,
   "id": "39518fce-bda6-4934-b120-7068e9f86955",
   "metadata": {},
   "outputs": [
    {
     "data": {
      "text/plain": [
       "Date\n",
       "2004-04-02    None\n",
       "2004-04-05    None\n",
       "2004-04-06    None\n",
       "2004-04-07    None\n",
       "2004-04-08    None\n",
       "              ... \n",
       "2006-04-11    None\n",
       "2006-04-12    None\n",
       "2006-04-13    None\n",
       "2006-04-17    None\n",
       "2006-04-18    None\n",
       "Length: 513, dtype: object"
      ]
     },
     "execution_count": 19,
     "metadata": {},
     "output_type": "execute_result"
    }
   ],
   "source": [
    "#3\n",
    "polarity_scores = []\n",
    "df3 = df3.T\n",
    "df3.apply(mean_roberta_score, axis=0)"
   ]
  },
  {
   "cell_type": "code",
   "execution_count": 20,
   "id": "05cab3fb-bea4-4362-b992-6f203c2ff16e",
   "metadata": {},
   "outputs": [],
   "source": [
    "#3\n",
    "neg_vals = [m['neg'] for m in polarity_scores]\n",
    "neu_vals = [m['neu'] for m in polarity_scores]\n",
    "pos_vals = [m['pos'] for m in polarity_scores]"
   ]
  },
  {
   "cell_type": "code",
   "execution_count": 21,
   "id": "8d311d93-3787-47ca-bae4-a556e3aefa8a",
   "metadata": {
    "tags": []
   },
   "outputs": [],
   "source": [
    "#3\n",
    "df3 = df3.T\n",
    "df3['negative'] = neg_vals\n",
    "df3['neutral'] = neu_vals\n",
    "df3['positive'] = pos_vals"
   ]
  },
  {
   "cell_type": "code",
   "execution_count": 22,
   "id": "7021a9db-f7db-4fdf-b859-99711b15636b",
   "metadata": {
    "tags": []
   },
   "outputs": [
    {
     "data": {
      "text/plain": [
       "Date\n",
       "2006-04-19    None\n",
       "2006-04-20    None\n",
       "2006-04-21    None\n",
       "2006-04-24    None\n",
       "2006-04-25    None\n",
       "              ... \n",
       "2008-05-07    None\n",
       "2008-05-08    None\n",
       "2008-05-09    None\n",
       "2008-05-12    None\n",
       "2008-05-13    None\n",
       "Length: 513, dtype: object"
      ]
     },
     "execution_count": 22,
     "metadata": {},
     "output_type": "execute_result"
    }
   ],
   "source": [
    "#4\n",
    "polarity_scores = []\n",
    "df4 = df4.T\n",
    "df4.apply(mean_roberta_score, axis=0)"
   ]
  },
  {
   "cell_type": "code",
   "execution_count": 23,
   "id": "6ff7ee83-2e98-4c20-83bd-ccf51c41f107",
   "metadata": {
    "tags": []
   },
   "outputs": [],
   "source": [
    "#4\n",
    "neg_vals = [m['neg'] for m in polarity_scores]\n",
    "neu_vals = [m['neu'] for m in polarity_scores]\n",
    "pos_vals = [m['pos'] for m in polarity_scores]"
   ]
  },
  {
   "cell_type": "code",
   "execution_count": 24,
   "id": "c20fd2d6-bb24-4760-bdaf-f69e429db9dc",
   "metadata": {
    "tags": []
   },
   "outputs": [],
   "source": [
    "#4\n",
    "df4 = df4.T\n",
    "df4['negative'] = neg_vals\n",
    "df4['neutral'] = neu_vals\n",
    "df4['positive'] = pos_vals"
   ]
  },
  {
   "cell_type": "code",
   "execution_count": 25,
   "id": "e1d2465b-923b-4e7b-b591-b0db1e7889cb",
   "metadata": {
    "tags": []
   },
   "outputs": [
    {
     "data": {
      "text/plain": [
       "Date\n",
       "2008-05-14    None\n",
       "2008-05-15    None\n",
       "2008-05-16    None\n",
       "2008-05-19    None\n",
       "2008-05-20    None\n",
       "              ... \n",
       "2010-05-20    None\n",
       "2010-05-21    None\n",
       "2010-05-24    None\n",
       "2010-05-25    None\n",
       "2010-05-26    None\n",
       "Length: 513, dtype: object"
      ]
     },
     "execution_count": 25,
     "metadata": {},
     "output_type": "execute_result"
    }
   ],
   "source": [
    "#5\n",
    "polarity_scores = []\n",
    "df5 = df5.T\n",
    "df5.apply(mean_roberta_score, axis=0)"
   ]
  },
  {
   "cell_type": "code",
   "execution_count": 26,
   "id": "ae5d89be-7d3c-462d-b676-d6664d7b1c45",
   "metadata": {},
   "outputs": [],
   "source": [
    "#5\n",
    "neg_vals = [m['neg'] for m in polarity_scores]\n",
    "neu_vals = [m['neu'] for m in polarity_scores]\n",
    "pos_vals = [m['pos'] for m in polarity_scores]"
   ]
  },
  {
   "cell_type": "code",
   "execution_count": 27,
   "id": "6f63b34d-b8bc-4b71-a1f5-ad33efca32f9",
   "metadata": {},
   "outputs": [],
   "source": [
    "#5\n",
    "df5 = df5.T\n",
    "df5['negative'] = neg_vals\n",
    "df5['neutral'] = neu_vals\n",
    "df5['positive'] = pos_vals"
   ]
  },
  {
   "cell_type": "code",
   "execution_count": 28,
   "id": "c69ada53-3122-4754-affc-ec4079865182",
   "metadata": {
    "tags": []
   },
   "outputs": [
    {
     "data": {
      "text/plain": [
       "Date\n",
       "2010-05-27    None\n",
       "2010-05-28    None\n",
       "2010-06-01    None\n",
       "2010-06-02    None\n",
       "2010-06-03    None\n",
       "              ... \n",
       "2012-06-01    None\n",
       "2012-06-04    None\n",
       "2012-06-05    None\n",
       "2012-06-06    None\n",
       "2012-06-07    None\n",
       "Length: 513, dtype: object"
      ]
     },
     "execution_count": 28,
     "metadata": {},
     "output_type": "execute_result"
    }
   ],
   "source": [
    "#6\n",
    "polarity_scores = []\n",
    "df6 = df6.T\n",
    "df6.apply(mean_roberta_score, axis=0)"
   ]
  },
  {
   "cell_type": "code",
   "execution_count": 29,
   "id": "198d7cfd-8578-4f16-96d5-04240195e6c6",
   "metadata": {
    "tags": []
   },
   "outputs": [],
   "source": [
    "#6\n",
    "neg_vals = [m['neg'] for m in polarity_scores]\n",
    "neu_vals = [m['neu'] for m in polarity_scores]\n",
    "pos_vals = [m['pos'] for m in polarity_scores]"
   ]
  },
  {
   "cell_type": "code",
   "execution_count": 30,
   "id": "9b26a230-1bbf-4de9-8104-87aea031c134",
   "metadata": {
    "tags": []
   },
   "outputs": [],
   "source": [
    "#6\n",
    "df6 = df6.T\n",
    "df6['negative'] = neg_vals\n",
    "df6['neutral'] = neu_vals\n",
    "df6['positive'] = pos_vals"
   ]
  },
  {
   "cell_type": "code",
   "execution_count": 31,
   "id": "64931092-590a-4150-bfc9-b1d379d28340",
   "metadata": {
    "tags": []
   },
   "outputs": [
    {
     "data": {
      "text/plain": [
       "Date\n",
       "2012-06-08    None\n",
       "2012-06-11    None\n",
       "2012-06-12    None\n",
       "2012-06-13    None\n",
       "2012-06-14    None\n",
       "              ... \n",
       "2014-06-18    None\n",
       "2014-06-19    None\n",
       "2014-06-20    None\n",
       "2014-06-23    None\n",
       "2014-06-24    None\n",
       "Length: 513, dtype: object"
      ]
     },
     "execution_count": 31,
     "metadata": {},
     "output_type": "execute_result"
    }
   ],
   "source": [
    "#7\n",
    "polarity_scores = []\n",
    "df7 = df7.T\n",
    "df7.apply(mean_roberta_score, axis=0)"
   ]
  },
  {
   "cell_type": "code",
   "execution_count": 32,
   "id": "9f8d83ac-8b2b-4f3b-9dee-32f1a12e8480",
   "metadata": {},
   "outputs": [],
   "source": [
    "#7\n",
    "neg_vals = [m['neg'] for m in polarity_scores]\n",
    "neu_vals = [m['neu'] for m in polarity_scores]\n",
    "pos_vals = [m['pos'] for m in polarity_scores]"
   ]
  },
  {
   "cell_type": "code",
   "execution_count": 33,
   "id": "22925e97-b2b5-4b5b-832f-acf7d9564506",
   "metadata": {},
   "outputs": [],
   "source": [
    "#7\n",
    "df7 = df7.T\n",
    "df7['negative'] = neg_vals\n",
    "df7['neutral'] = neu_vals\n",
    "df7['positive'] = pos_vals"
   ]
  },
  {
   "cell_type": "code",
   "execution_count": 34,
   "id": "16525f2c-2e64-4778-bb2d-c5a69425a28b",
   "metadata": {},
   "outputs": [
    {
     "data": {
      "text/plain": [
       "Date\n",
       "2014-06-25    None\n",
       "2014-06-26    None\n",
       "2014-06-27    None\n",
       "2014-06-30    None\n",
       "2014-07-01    None\n",
       "              ... \n",
       "2016-06-27    None\n",
       "2016-06-28    None\n",
       "2016-06-29    None\n",
       "2016-06-30    None\n",
       "2016-07-01    None\n",
       "Length: 510, dtype: object"
      ]
     },
     "execution_count": 34,
     "metadata": {},
     "output_type": "execute_result"
    }
   ],
   "source": [
    "#8\n",
    "polarity_scores = []\n",
    "df8 = df8.T\n",
    "df8.apply(mean_roberta_score, axis=0)"
   ]
  },
  {
   "cell_type": "code",
   "execution_count": 35,
   "id": "abc9596d-137f-4791-b8f0-3a640d30bade",
   "metadata": {},
   "outputs": [],
   "source": [
    "#8\n",
    "neg_vals = [m['neg'] for m in polarity_scores]\n",
    "neu_vals = [m['neu'] for m in polarity_scores]\n",
    "pos_vals = [m['pos'] for m in polarity_scores]"
   ]
  },
  {
   "cell_type": "code",
   "execution_count": 36,
   "id": "524eed43-aba3-4f43-a8ae-fc845c92af13",
   "metadata": {},
   "outputs": [],
   "source": [
    "#8\n",
    "df8 = df8.T\n",
    "df8['negative'] = neg_vals\n",
    "df8['neutral'] = neu_vals\n",
    "df8['positive'] = pos_vals"
   ]
  },
  {
   "cell_type": "code",
   "execution_count": 37,
   "id": "b40698ab-8fad-4779-8469-e630bc259627",
   "metadata": {
    "tags": []
   },
   "outputs": [
    {
     "data": {
      "text/plain": [
       "(4101, 28)"
      ]
     },
     "execution_count": 37,
     "metadata": {},
     "output_type": "execute_result"
    }
   ],
   "source": [
    "dfs = [df1, df2, df3, df4, df5, df6, df7, df8]\n",
    "df = pd.concat(dfs, ignore_index=False)\n",
    "df.shape"
   ]
  },
  {
   "cell_type": "code",
   "execution_count": 38,
   "id": "80f55782-f578-4da3-a791-410a4aed3018",
   "metadata": {},
   "outputs": [],
   "source": [
    "df.to_csv('data/5_news_headlines_sentiment.csv', index=True)"
   ]
  }
 ],
 "metadata": {
  "kernelspec": {
   "display_name": "Python 3 (ipykernel)",
   "language": "python",
   "name": "python3"
  },
  "language_info": {
   "codemirror_mode": {
    "name": "ipython",
    "version": 3
   },
   "file_extension": ".py",
   "mimetype": "text/x-python",
   "name": "python",
   "nbconvert_exporter": "python",
   "pygments_lexer": "ipython3",
   "version": "3.11.4"
  }
 },
 "nbformat": 4,
 "nbformat_minor": 5
}
