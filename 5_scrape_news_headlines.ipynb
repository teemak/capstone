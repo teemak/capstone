{
 "cells": [
  {
   "cell_type": "code",
   "execution_count": 1,
   "id": "138e06ac-715e-4bb6-857e-54a547b07ee3",
   "metadata": {
    "tags": []
   },
   "outputs": [],
   "source": [
    "import requests\n",
    "from bs4 import BeautifulSoup\n",
    "import pandas as pd\n",
    "import httpx\n",
    "from datetime import datetime\n",
    "import re"
   ]
  },
  {
   "cell_type": "code",
   "execution_count": 2,
   "id": "56d6b5ad-a42e-4d62-9e07-e34b01d0defe",
   "metadata": {
    "tags": []
   },
   "outputs": [],
   "source": [
    "url = 'https://www.cbsnews.com/news/year-in-review-top-news-stories-of-2018-month-by-month'"
   ]
  },
  {
   "cell_type": "code",
   "execution_count": 3,
   "id": "f33bc2f8-8735-4aa6-aae6-463a45daadfd",
   "metadata": {
    "tags": []
   },
   "outputs": [],
   "source": [
    "response = requests.get(url)\n",
    "html_content = BeautifulSoup(response.content, 'html.parser')"
   ]
  },
  {
   "cell_type": "code",
   "execution_count": 4,
   "id": "901f7cc1-b988-41ed-a769-4531e64e0a24",
   "metadata": {
    "tags": []
   },
   "outputs": [],
   "source": [
    "sections = html_content.find_all('section', class_='content__body')\n",
    "data_with_dates = []\n",
    "\n",
    "for section in sections:\n",
    "    list_items = section.find_all('li')\n",
    "    \n",
    "    for item in list_items:\n",
    "        try:\n",
    "            date_str = item.get_text().split(',')[-1].strip().strip(')').strip('\"')\n",
    "            date = datetime.strptime(date_str, \"%m/%d/%y\")\n",
    "            headline = item.get_text().rsplit(\" (\", 1)[0]\n",
    "            data_with_dates.append((date, headline))\n",
    "        except ValueError:\n",
    "            continue\n",
    "\n",
    "df = pd.DataFrame(data_with_dates, columns=['date', 'headline'])"
   ]
  },
  {
   "cell_type": "code",
   "execution_count": 5,
   "id": "8909d93f-e84b-4efc-af9b-3c4f911a18dc",
   "metadata": {
    "tags": []
   },
   "outputs": [],
   "source": [
    "df_2018 = df.copy()\n",
    "df_2018['date'] = pd.to_datetime(df_2018['date'])\n",
    "df_2018 = df_2018.sort_values('date')\n",
    "df_2018.set_index('date', inplace=True)"
   ]
  },
  {
   "cell_type": "code",
   "execution_count": 6,
   "id": "5d60742e-9fb7-4f42-9148-00bf6c526b8e",
   "metadata": {
    "tags": []
   },
   "outputs": [],
   "source": [
    "url = 'https://en.wikipedia.org/wiki/2019'\n",
    "response = requests.get(url)\n",
    "html_content = BeautifulSoup(response.content, 'html.parser')"
   ]
  },
  {
   "cell_type": "code",
   "execution_count": 7,
   "id": "ca0efc68-4ba3-4185-986a-00725e999abf",
   "metadata": {
    "tags": []
   },
   "outputs": [],
   "source": [
    "# 2019\n",
    "year = 2019\n",
    "soup = html_content\n",
    "list_items = html_content.find_all('a')\n",
    "months = [\"January\", \"February\", \"March\", \"April\", \"May\", \"June\", \"July\", \"August\", \"September\", \"October\", \"November\", \"December\"]\n",
    "wiki_months = [F\"/wiki/{m}\" for m in months]\n",
    "month_regex = re.compile('|'.join(wiki_months), re.IGNORECASE)\n",
    "month_links = soup.find_all('a', href=month_regex)\n",
    "\n",
    "stop_string = 'Iraqi militiamen and protestersbreachthe front gate checkpoint of theUnited States embassy in Baghdadfollowing a U.S.military operationthat targeted an Iraqi militia on December 29.'\n",
    "data = []\n",
    "\n",
    "for link in month_links:\n",
    "    parent_li = link.find_parent('li')\n",
    "    if parent_li:\n",
    "        row = parent_li.get_text(strip=True) \n",
    "        match = re.search(r\"(\\w+)\\s(\\d{1,2})\", row) \n",
    "        if match:\n",
    "            month = match.group(1)  \n",
    "            day = match.group(2)    \n",
    "            date = f\"{year} {month} {day}\"\n",
    "\n",
    "        text = re.sub(r\"^(January|February|March|April|May|June|July|August|September|October|November|December)\\s\\d{1,4}\", \"\", row)\n",
    "        text = re.sub(r\"\\[\\d+\\]\", \" \", text) \n",
    "        \n",
    "        data.append((date, text))\n",
    "\n",
    "        if stop_string in text:\n",
    "            break"
   ]
  },
  {
   "cell_type": "code",
   "execution_count": 8,
   "id": "c06ee7c0-8fea-496f-a067-44a84efaac4d",
   "metadata": {
    "tags": []
   },
   "outputs": [],
   "source": [
    "data[77] = ('2019 June 9', 'Hong Kong protests: Over 10million people in Hong Kong protest against proposed legislation regarding extradition to mainland China. It is the largest protest in Hong Kong since the 1997 handover. A large explosive eruption of Mount Sinabung in Indonesia sends a 7,000-meter ash column into the air, generating a pyroclastic flow 3–3.5 kilometers long towards the south and southeast of the mountain.')"
   ]
  },
  {
   "cell_type": "code",
   "execution_count": 9,
   "id": "a5725729-da7b-4667-a148-de42e46bd713",
   "metadata": {
    "tags": []
   },
   "outputs": [],
   "source": [
    "data[131] = ('2019 September 4', 'Hong Kong protests: Hong Kong Chief Executive Carrie Lam announces the official withdrawal of the controversial Fugitive Offenders and Mutual Legal Assistance in Criminal Matters Legislation (Amendment) Bill 2019, and setting up of an independent study to probe social and economic inequality within the territory. In the United States the Federal Trade Commission threatens to fine YouTube and Googleup to $170 million for violation of collecting personal information from children under 13. Google tracked childrens YouTube history to regulate targeted advertising and the FTC took notice and took action.')"
   ]
  },
  {
   "cell_type": "code",
   "execution_count": 10,
   "id": "08794c66-91e6-43c9-abcd-1bf22d431b14",
   "metadata": {
    "tags": []
   },
   "outputs": [],
   "source": [
    "data[157] = ('2019 October 8', 'Ecuadorian protests: The Government of Ecuador, headed by President Lenín Moreno, moves to Guayaquil as the Carondelet Palace in Quitois overtaken by protesters and chaos persists in the capital. About 200 Extinction Rebellion activists block the gates of Leinster House(parliament) in the Republic of Ireland.')"
   ]
  },
  {
   "cell_type": "code",
   "execution_count": 11,
   "id": "b621d467-9585-4f50-8bbd-a921ef1a79ed",
   "metadata": {
    "tags": []
   },
   "outputs": [],
   "source": [
    "data[158] = ('2019 October 9', data[158][1])"
   ]
  },
  {
   "cell_type": "code",
   "execution_count": 12,
   "id": "e102e19d-eee7-424e-a3e2-e60578496e79",
   "metadata": {
    "tags": []
   },
   "outputs": [],
   "source": [
    "df = pd.DataFrame(data, columns=['date', 'headline'])\n",
    "df['date'] = pd.to_datetime(df['date'])\n",
    "df.set_index('date', inplace=True)"
   ]
  },
  {
   "cell_type": "code",
   "execution_count": 13,
   "id": "be8f4721-f671-481a-9301-5a783e582b02",
   "metadata": {
    "tags": []
   },
   "outputs": [],
   "source": [
    "df_2019 = df.copy()"
   ]
  },
  {
   "cell_type": "code",
   "execution_count": 14,
   "id": "4ff86d2f-2000-428b-82c6-a1e8e8fbf1b7",
   "metadata": {
    "tags": []
   },
   "outputs": [],
   "source": [
    "#2020\n",
    "year = 2020\n",
    "url = f'https://en.wikipedia.org/wiki/{year}'\n",
    "response = requests.get(url)\n",
    "html_content = BeautifulSoup(response.content, 'html.parser')"
   ]
  },
  {
   "cell_type": "code",
   "execution_count": 15,
   "id": "5776acef-c972-416f-b712-a25e5a49400e",
   "metadata": {
    "tags": []
   },
   "outputs": [],
   "source": [
    "#2020\n",
    "soup = html_content\n",
    "list_items = html_content.find_all('a')\n",
    "months = [\"January\", \"February\", \"March\", \"April\", \"May\", \"June\", \"July\", \"August\", \"September\", \"October\", \"November\", \"December\"]\n",
    "wiki_months = [F\"/wiki/{m}\" for m in months]\n",
    "month_regex = re.compile('|'.join(wiki_months), re.IGNORECASE)\n",
    "month_links = soup.find_all('a', href=month_regex)\n",
    "\n",
    "stop_string = \"– Thetransition periodfollowingthe United Kingdom's exit from the European Unionon January 31, 2020, expires.\"\n",
    "data = []\n",
    "\n",
    "for link in month_links:\n",
    "    parent_li = link.find_parent('li')\n",
    "    if parent_li:\n",
    "        row = parent_li.get_text(strip=True) \n",
    "        match = re.search(r\"(\\w+)\\s(\\d{1,2})\", row) \n",
    "        if match:\n",
    "            month = match.group(1)  \n",
    "            day = match.group(2)    \n",
    "            date = f\"{year} {month} {day}\"\n",
    "\n",
    "        text = re.sub(r\"^(January|February|March|April|May|June|July|August|September|October|November|December)\\s\\d{1,4}\", \"\", row)   \n",
    "        text = re.sub(r\"\\[\\d+\\]\", \" \", text) \n",
    "        data.append((date, text))\n",
    "\n",
    "        if stop_string in text:\n",
    "            break"
   ]
  },
  {
   "cell_type": "code",
   "execution_count": 16,
   "id": "f40a2bcb-77af-4301-bfcd-ea5c192bad63",
   "metadata": {
    "tags": []
   },
   "outputs": [],
   "source": [
    "data[52] = ('2020 March 27', data[52][1])"
   ]
  },
  {
   "cell_type": "code",
   "execution_count": 17,
   "id": "704c2414-8e3c-41ab-a9e5-953b223e5226",
   "metadata": {
    "tags": []
   },
   "outputs": [],
   "source": [
    "data[156] = ('2020 October 20' , data[156][1])"
   ]
  },
  {
   "cell_type": "code",
   "execution_count": 18,
   "id": "cfa402ab-5c9c-4df7-85c7-8e514960e50c",
   "metadata": {
    "tags": []
   },
   "outputs": [],
   "source": [
    "data[188] = ('2020 November 30', 'A penumbral lunar eclipseoccurs; the last of four lunar eclipses in 2020.')"
   ]
  },
  {
   "cell_type": "code",
   "execution_count": 19,
   "id": "96cf68c7-28aa-44cc-ba83-8c9f38bdcbfa",
   "metadata": {
    "tags": []
   },
   "outputs": [],
   "source": [
    "df = pd.DataFrame(data, columns=['date', 'headline'])\n",
    "df['date'] = pd.to_datetime(df['date'])\n",
    "df.set_index('date', inplace=True)"
   ]
  },
  {
   "cell_type": "code",
   "execution_count": 20,
   "id": "f0f45a2f-8a25-4903-ae54-119798f8b20a",
   "metadata": {
    "tags": []
   },
   "outputs": [],
   "source": [
    "df_2020 = df.copy()"
   ]
  },
  {
   "cell_type": "code",
   "execution_count": 21,
   "id": "b5ff5f78-667c-422c-97a9-bccb4c299aa8",
   "metadata": {
    "tags": []
   },
   "outputs": [],
   "source": [
    "#2021\n",
    "year = 2021\n",
    "url = f'https://en.wikipedia.org/wiki/{year}'\n",
    "response = requests.get(url)\n",
    "html_content = BeautifulSoup(response.content, 'html.parser')"
   ]
  },
  {
   "cell_type": "code",
   "execution_count": 22,
   "id": "2ad518f6-54d5-47aa-8fe6-9ecf0b4922bf",
   "metadata": {
    "tags": []
   },
   "outputs": [],
   "source": [
    "#2021\n",
    "soup = html_content\n",
    "list_items = html_content.find_all('a')\n",
    "months = [\"January\", \"February\", \"March\", \"April\", \"May\", \"June\", \"July\", \"August\", \"September\", \"October\", \"November\", \"December\"]\n",
    "wiki_months = [F\"/wiki/{m}\" for m in months]\n",
    "month_regex = re.compile('|'.join(wiki_months), re.IGNORECASE)\n",
    "month_links = soup.find_all('a', href=month_regex)\n",
    "\n",
    "stop_string = '–NASA,ESA, theCanadian Space Agencyand theSpace Telescope Science Institutelaunch theJames Webb Space Telescope, the successor of theHubble Space Telescope.'\n",
    "data = []\n",
    "\n",
    "for link in month_links:\n",
    "    parent_li = link.find_parent('li')\n",
    "    if parent_li:\n",
    "        row = parent_li.get_text(strip=True) \n",
    "        match = re.search(r\"(\\w+)\\s(\\d{1,2})\", row) \n",
    "        if match:\n",
    "            month = match.group(1)  \n",
    "            day = match.group(2)    \n",
    "            date = f\"{year} {month} {day}\"\n",
    "\n",
    "        text = re.sub(r\"^(January|February|March|April|May|June|July|August|September|October|November|December)\\s\\d{1,4}\", \"\", row) \n",
    "        text = re.sub(r\"\\[\\d+\\]\", \" \", text) \n",
    "        data.append((date, text))\n",
    "\n",
    "        if stop_string in text:\n",
    "            break"
   ]
  },
  {
   "cell_type": "code",
   "execution_count": 23,
   "id": "c2ad7ca8-b765-49b8-ba38-757739efe68a",
   "metadata": {
    "tags": []
   },
   "outputs": [],
   "source": [
    "data[108] = ('2021 August 4', data[108][1])"
   ]
  },
  {
   "cell_type": "code",
   "execution_count": 24,
   "id": "b2d83cff-735f-40b8-981c-1416a6f87ce1",
   "metadata": {
    "tags": []
   },
   "outputs": [],
   "source": [
    "df = pd.DataFrame(data, columns=['date', 'headline'])\n",
    "df['date'] = pd.to_datetime(df['date'])\n",
    "df.set_index('date', inplace=True)"
   ]
  },
  {
   "cell_type": "code",
   "execution_count": 25,
   "id": "50944e53-7635-4e7a-bda5-96c84a8a294d",
   "metadata": {
    "tags": []
   },
   "outputs": [],
   "source": [
    "df_2021 = df.copy()"
   ]
  },
  {
   "cell_type": "code",
   "execution_count": 26,
   "id": "ace6edb3-0e1c-449c-abcd-fa2fea971117",
   "metadata": {
    "tags": []
   },
   "outputs": [],
   "source": [
    "#2022\n",
    "year = 2022\n",
    "url = f'https://en.wikipedia.org/wiki/{year}'\n",
    "response = requests.get(url)\n",
    "html_content = BeautifulSoup(response.content, 'html.parser')"
   ]
  },
  {
   "cell_type": "code",
   "execution_count": 27,
   "id": "e4f03f72-8b23-453c-b934-823e4f4536c2",
   "metadata": {
    "tags": []
   },
   "outputs": [],
   "source": [
    "#2022\n",
    "soup = html_content\n",
    "list_items = html_content.find_all('a')\n",
    "months = [\"January\", \"February\", \"March\", \"April\", \"May\", \"June\", \"July\", \"August\", \"September\", \"October\", \"November\", \"December\"]\n",
    "wiki_months = [F\"/wiki/{m}\" for m in months]\n",
    "month_regex = re.compile('|'.join(wiki_months), re.IGNORECASE)\n",
    "month_links = soup.find_all('a', href=month_regex)\n",
    "\n",
    "stop_string = \"– FormerPope Benedict XVIdiesat the age of 95, with his funeral being held inSt. Peter's Square, presided over byPope FrancisandCardinal Giovanni Battista Re.\"\n",
    "data = []\n",
    "\n",
    "for link in month_links:\n",
    "    parent_li = link.find_parent('li')\n",
    "    if parent_li:\n",
    "        row = parent_li.get_text(strip=True) \n",
    "        match = re.search(r\"(\\w+)\\s(\\d{1,2})\", row)\n",
    "        if match:\n",
    "            month = match.group(1)  \n",
    "            day = match.group(2)    \n",
    "            date = f\"{year} {month} {day}\"\n",
    "\n",
    "        text = re.sub(r\"^(January|February|March|April|May|June|July|August|September|October|November|December)\\s\\d{1,4}\", \"\", row)   \n",
    "        text = re.sub(r\"\\[\\d+\\]\", \" \", text) \n",
    "        data.append((date, text))\n",
    "\n",
    "        if stop_string in text:\n",
    "            break"
   ]
  },
  {
   "cell_type": "code",
   "execution_count": 28,
   "id": "7d8c7568-8f10-4eeb-8307-0f556ece47e0",
   "metadata": {
    "tags": []
   },
   "outputs": [],
   "source": [
    "data[37] = ('2022 March 9', \"2022 South Korean presidential election:People Power PartycandidateYoon Suk-yeolis narrowly elected President of South Korea. Russian invasion of Ukraine: Russia is condemned by world leaders following anair strike in Mariupolthat destroys a hospital including a maternity and children's ward. \")"
   ]
  },
  {
   "cell_type": "code",
   "execution_count": 29,
   "id": "c3a45a17-7659-4601-999f-9a8c1498ed6a",
   "metadata": {
    "tags": []
   },
   "outputs": [],
   "source": [
    "data[157] = ('2022 October 29', 'A double car bombing by al-Shabaab in Mogadishu, Somalia kills at least 121 people and injures around 300.')"
   ]
  },
  {
   "cell_type": "code",
   "execution_count": 30,
   "id": "20491e19-5f7d-4d36-b949-f734f024d7ac",
   "metadata": {
    "tags": []
   },
   "outputs": [],
   "source": [
    "data[158] = ('2022 October 29', 'A double car bombing by al-Shabaab in Mogadishu, Somalia kills at least 121 people and injures around 300.')"
   ]
  },
  {
   "cell_type": "code",
   "execution_count": 31,
   "id": "249ff8d7-b6ee-4ec6-bf6d-c42946c3ca3f",
   "metadata": {
    "tags": []
   },
   "outputs": [],
   "source": [
    "df = pd.DataFrame(data, columns=['date', 'headline'])\n",
    "df['date'] = pd.to_datetime(df['date'])\n",
    "df.set_index('date', inplace=True)"
   ]
  },
  {
   "cell_type": "code",
   "execution_count": 32,
   "id": "ff6413c3-ae00-4766-9c8f-d9c6f2c31e05",
   "metadata": {
    "tags": []
   },
   "outputs": [],
   "source": [
    "df_2022 = df.copy()"
   ]
  },
  {
   "cell_type": "code",
   "execution_count": 33,
   "id": "14dd2ea5-1726-4603-b398-4b6d4b4343a5",
   "metadata": {
    "tags": []
   },
   "outputs": [],
   "source": [
    "#2023\n",
    "year = 2023\n",
    "url = f'https://en.wikipedia.org/wiki/{year}'\n",
    "response = requests.get(url)\n",
    "html_content = BeautifulSoup(response.content, 'html.parser')"
   ]
  },
  {
   "cell_type": "code",
   "execution_count": 34,
   "id": "9634f8e1-95b0-483c-a53f-eb6cf30fd43d",
   "metadata": {
    "tags": []
   },
   "outputs": [],
   "source": [
    "#2023\n",
    "soup = html_content\n",
    "list_items = html_content.find_all('a')\n",
    "months = [\"January\", \"February\", \"March\", \"April\", \"May\", \"June\", \"July\", \"August\", \"September\", \"October\", \"November\", \"December\"]\n",
    "wiki_months = [F\"/wiki/{m}\" for m in months]\n",
    "month_regex = re.compile('|'.join(wiki_months), re.IGNORECASE)\n",
    "month_links = soup.find_all('a', href=month_regex)\n",
    "\n",
    "stop_string = \"–Queen Margrethe IIofDenmarkannouncesher abdicationeffective January 14, 2024, after 52 years on the throne.\"\n",
    "data = []\n",
    "\n",
    "for link in month_links:\n",
    "    parent_li = link.find_parent('li')\n",
    "    if parent_li:\n",
    "        row = parent_li.get_text(strip=True) \n",
    "        match = re.search(r\"(\\w+)\\s(\\d{1,2})\", row)\n",
    "        if match:\n",
    "            month = match.group(1)  \n",
    "            day = match.group(2)   \n",
    "            date = f\"{year} {month} {day}\"\n",
    "\n",
    "        text = re.sub(r\"^(January|February|March|April|May|June|July|August|September|October|November|December)\\s\\d{1,4}\", \"\", row) \n",
    "        text = re.sub(r\"\\[\\d+\\]\", \" \", text) \n",
    "        data.append((date, text))\n",
    "\n",
    "        if stop_string in text:\n",
    "            break"
   ]
  },
  {
   "cell_type": "code",
   "execution_count": 35,
   "id": "d64f8024-134a-402e-a8dc-9561ccb56c3c",
   "metadata": {
    "tags": []
   },
   "outputs": [],
   "source": [
    "data[35] = ('2023 March 4', 'Kivu conflict: Burundi deploys 100 troops to the Democratic Republic of the Congoto help fight insurgencies by militias, including M23.')"
   ]
  },
  {
   "cell_type": "code",
   "execution_count": 36,
   "id": "2688a7c5-5ee9-4754-9ee9-da485221f1f5",
   "metadata": {
    "tags": []
   },
   "outputs": [],
   "source": [
    "data[37] = data[35]"
   ]
  },
  {
   "cell_type": "code",
   "execution_count": 37,
   "id": "a3f4e1df-5b4b-4b8f-8808-786e54c8c764",
   "metadata": {
    "tags": []
   },
   "outputs": [],
   "source": [
    "data[76] = ('2023 May 21', 'The May 2023 Greek legislative electionis held; the ruling New Democracy wins a plurality of seats in the Hellenic Parliament. Just days later incumbent prime minister Kyriakos Mitsotakis, called for another snap election to be held in June.')"
   ]
  },
  {
   "cell_type": "code",
   "execution_count": 38,
   "id": "81d4b181-a37d-40f8-b770-cfefeae7afd0",
   "metadata": {
    "tags": []
   },
   "outputs": [],
   "source": [
    "data[78] = data[76]"
   ]
  },
  {
   "cell_type": "code",
   "execution_count": 39,
   "id": "b9b5ecab-db92-4493-a2e2-7147c79ce268",
   "metadata": {
    "tags": []
   },
   "outputs": [],
   "source": [
    "data[97] = ('2023 July 3', 'In the largest incursion by Israel into the West Bank since the Second Intifada, the Israeli military deploys ground forces and armed drones into the Jenin camp, killing 13 and injuring more than 100. An attack claimed by Hamas as retaliation for the incursion, occurs in Tel Aviv the following day, injuring nine.')"
   ]
  },
  {
   "cell_type": "code",
   "execution_count": 40,
   "id": "e56c8b44-862e-4eac-99be-e7392980f18f",
   "metadata": {
    "tags": []
   },
   "outputs": [],
   "source": [
    "data[98] = ('2023 July 3', 'In the largest incursion by Israel into the West Bank since the Second Intifada, the Israeli military deploys ground forces and armed drones into the Jenin camp, killing 13 and injuring more than 100. An attack claimed by Hamas as retaliation for the incursion, occurs in Tel Aviv the following day, injuring nine.')"
   ]
  },
  {
   "cell_type": "code",
   "execution_count": 41,
   "id": "5330028b-42a7-40d9-82ca-36b70d134208",
   "metadata": {
    "tags": []
   },
   "outputs": [],
   "source": [
    "data[99] = data[98]"
   ]
  },
  {
   "cell_type": "code",
   "execution_count": 42,
   "id": "06ee04a3-4a8b-409a-831e-77798fa339d6",
   "metadata": {
    "tags": []
   },
   "outputs": [],
   "source": [
    "data[100] = data[99]"
   ]
  },
  {
   "cell_type": "code",
   "execution_count": 43,
   "id": "5414ea38-87e6-4de7-8356-a944b3b67932",
   "metadata": {
    "tags": []
   },
   "outputs": [],
   "source": [
    "data[137] = ('2023 October 3', 'Elected on 8 January, Kevin McCarthy is removed as Speaker of the United States House of Representatives, with Mike Johnson being elected new Speaker on 25 October.')"
   ]
  },
  {
   "cell_type": "code",
   "execution_count": 44,
   "id": "5ced8844-38ab-4ee0-8474-de6d503a8451",
   "metadata": {
    "tags": []
   },
   "outputs": [],
   "source": [
    "data[138] = ('2023 October 3', 'Elected on 8 January, Kevin McCarthy is removed as Speaker of the United States House of Representatives, with Mike Johnson being elected new Speaker on 25 October.')"
   ]
  },
  {
   "cell_type": "code",
   "execution_count": 45,
   "id": "3349d47b-e773-4027-a607-fbfca916c97f",
   "metadata": {
    "tags": []
   },
   "outputs": [],
   "source": [
    "data[139] = ('2023 October 7', '2023 Israel–Hamas war:Hamas launches an incursion into southern Israel from the Gaza Strip, prompting a military response from the Israel Defense Forces. Israel launches numerous air strikes on Lebanon after rockets are fired by Hezbollah and further attempts are made to penetrate Israel. A series of earthquakes occur in Herat Province in Afghanistan, killing over 1,000 people and injuring nearly 2,000, with tremors felt in Iran and Turkmenistan. The earthquakes are the deadliest in the country since 1998.')"
   ]
  },
  {
   "cell_type": "code",
   "execution_count": 46,
   "id": "05c3b4b3-7e57-41ab-9849-5d9f39fa92de",
   "metadata": {
    "tags": []
   },
   "outputs": [],
   "source": [
    "data[140] = ('2023 October 7', '2023 Israel–Hamas war:Hamas launches an incursion into southern Israel from the Gaza Strip, prompting a military response from the Israel Defense Forces. Israel launches numerous air strikes on Lebanon after rockets are fired by Hezbollah and further attempts are made to penetrate Israel. A series of earthquakes occur in Herat Province in Afghanistan, killing over 1,000 people and injuring nearly 2,000, with tremors felt in Iran and Turkmenistan. The earthquakes are the deadliest in the country since 1998.')"
   ]
  },
  {
   "cell_type": "code",
   "execution_count": 47,
   "id": "f51c2a3c-0663-4759-b908-fd78f480eafe",
   "metadata": {
    "tags": []
   },
   "outputs": [],
   "source": [
    "data[141] = data[140]"
   ]
  },
  {
   "cell_type": "code",
   "execution_count": 48,
   "id": "9c915355-4d45-40fc-a378-ac3b4ee02b9f",
   "metadata": {
    "tags": []
   },
   "outputs": [],
   "source": [
    "data[142] = data[141]"
   ]
  },
  {
   "cell_type": "code",
   "execution_count": 49,
   "id": "3eef6102-d195-4efb-a5a6-149e4be0f826",
   "metadata": {
    "tags": []
   },
   "outputs": [],
   "source": [
    "data[143] = ('2023 October 7', data[143][1])"
   ]
  },
  {
   "cell_type": "code",
   "execution_count": 50,
   "id": "081625d8-fbed-469b-8bee-f3a962b2c3f9",
   "metadata": {
    "tags": []
   },
   "outputs": [],
   "source": [
    "data[160] = ('2023 November 19', '2023 Argentine presidential election: Following the first round on 22 October 2023,Javier Mileiwins in the second round of the2023 Argentine presidential election, assuming office on10 DecemberwithVictoria Villarruelas hisvice president. ')"
   ]
  },
  {
   "cell_type": "code",
   "execution_count": 51,
   "id": "07de69bc-940c-4817-9def-96a10df6b46e",
   "metadata": {
    "tags": []
   },
   "outputs": [],
   "source": [
    "data[162] = data[160]"
   ]
  },
  {
   "cell_type": "code",
   "execution_count": 52,
   "id": "ce9e673b-dfbe-4eb1-934e-caa9ddfb6ad6",
   "metadata": {
    "tags": []
   },
   "outputs": [],
   "source": [
    "#2023\n",
    "df = pd.DataFrame(data, columns=['date', 'headline'])\n",
    "df['date'] = pd.to_datetime(df['date'])\n",
    "df.set_index('date', inplace=True)"
   ]
  },
  {
   "cell_type": "code",
   "execution_count": 53,
   "id": "22e669eb-4d20-4db8-b71a-6f7b9975fa89",
   "metadata": {
    "tags": []
   },
   "outputs": [],
   "source": [
    "#2023\n",
    "df_2023 = df.copy()"
   ]
  },
  {
   "cell_type": "code",
   "execution_count": 54,
   "id": "72fb5faf-6ec6-48fa-8d22-68c39f876636",
   "metadata": {
    "tags": []
   },
   "outputs": [],
   "source": [
    "#2024\n",
    "year = 2024\n",
    "url = f'https://en.wikipedia.org/wiki/{year}'\n",
    "response = requests.get(url)\n",
    "html_content = BeautifulSoup(response.content, 'html.parser')"
   ]
  },
  {
   "cell_type": "code",
   "execution_count": 55,
   "id": "a3969c06-dd5d-4782-8e95-9c09d4bb5203",
   "metadata": {
    "tags": []
   },
   "outputs": [],
   "source": [
    "#2024\n",
    "soup = html_content\n",
    "list_items = html_content.find_all('a')\n",
    "months = [\"January\", \"February\", \"March\", \"April\", \"May\", \"June\", \"July\", \"August\", \"September\", \"October\", \"November\", \"December\"]\n",
    "wiki_months = [F\"/wiki/{m}\" for m in months]\n",
    "month_regex = re.compile('|'.join(wiki_months), re.IGNORECASE)\n",
    "month_links = soup.find_all('a', href=month_regex)\n",
    "\n",
    "stop_string = \"– Assuming thenext United Kingdom general electionhas not already taken place, theParliament elected in 2019will automatically bedissolved, with the next general election taking place no later than January 28, 2025.\"\n",
    "data = []\n",
    "\n",
    "for link in month_links:\n",
    "    parent_li = link.find_parent('li')\n",
    "    if parent_li:\n",
    "        row = parent_li.get_text(strip=True) \n",
    "        match = re.search(r\"(\\w+)\\s(\\d{1,2})\", row) \n",
    "        if match:\n",
    "            month = match.group(1)  \n",
    "            day = match.group(2)    \n",
    "            date = f\"{year} {month} {day}\"\n",
    "\n",
    "        text = re.sub(r\"^(January|February|March|April|May|June|July|August|September|October|November|December)\\s\\d{1,4}\", \"\", row)   \n",
    "        text = re.sub(r\"\\[\\d+\\]\", \" \", text) \n",
    "        data.append((date, text))\n",
    "\n",
    "        if stop_string in text:\n",
    "            break"
   ]
  },
  {
   "cell_type": "code",
   "execution_count": 56,
   "id": "85c79280-bda9-4dca-910b-c02d44e586b7",
   "metadata": {
    "tags": []
   },
   "outputs": [],
   "source": [
    "data[15] = ('2024 January 12', data[15][1])"
   ]
  },
  {
   "cell_type": "code",
   "execution_count": 57,
   "id": "4d90f6cd-3c7c-4df0-8dc3-609a9004848f",
   "metadata": {
    "tags": []
   },
   "outputs": [],
   "source": [
    "data[19] = ('2024 February 8', data[19][1])"
   ]
  },
  {
   "cell_type": "code",
   "execution_count": 58,
   "id": "6e465700-8063-48c4-8b89-97675e5ea026",
   "metadata": {
    "tags": []
   },
   "outputs": [],
   "source": [
    "#2024\n",
    "df = pd.DataFrame(data, columns=['date', 'headline'])\n",
    "df['date'] = pd.to_datetime(df['date'])\n",
    "df.set_index('date', inplace=True)"
   ]
  },
  {
   "cell_type": "code",
   "execution_count": 59,
   "id": "702409f0-2323-4237-9bfc-6fb0efdd2ceb",
   "metadata": {
    "tags": []
   },
   "outputs": [],
   "source": [
    "#2024\n",
    "df_2024 = df.copy()"
   ]
  },
  {
   "cell_type": "code",
   "execution_count": 60,
   "id": "88347e56-0332-4465-96ac-b5438d71f3c3",
   "metadata": {
    "tags": []
   },
   "outputs": [],
   "source": [
    "dfs = [df_2018, df_2019, df_2020, df_2021, df_2022, df_2023, df_2024]\n",
    "market_sentiment = pd.concat(dfs, axis=0)"
   ]
  },
  {
   "cell_type": "code",
   "execution_count": 61,
   "id": "3cca2afd-7092-44e2-8e68-cfd7ecba5a1d",
   "metadata": {
    "tags": []
   },
   "outputs": [],
   "source": [
    "market_sentiment.to_csv('data/headlines_2018_2024', index=True)"
   ]
  }
 ],
 "metadata": {
  "kernelspec": {
   "display_name": "Python 3 (ipykernel)",
   "language": "python",
   "name": "python3"
  },
  "language_info": {
   "codemirror_mode": {
    "name": "ipython",
    "version": 3
   },
   "file_extension": ".py",
   "mimetype": "text/x-python",
   "name": "python",
   "nbconvert_exporter": "python",
   "pygments_lexer": "ipython3",
   "version": "3.11.4"
  }
 },
 "nbformat": 4,
 "nbformat_minor": 5
}
