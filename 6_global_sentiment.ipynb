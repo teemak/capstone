{
 "cells": [
  {
   "cell_type": "code",
   "execution_count": 1,
   "id": "f8113615-84f3-4367-8a8a-551e0bd04f48",
   "metadata": {
    "tags": []
   },
   "outputs": [],
   "source": [
    "import pandas as pd\n",
    "from transformers import AutoTokenizer, AutoModelForSequenceClassification\n",
    "from scipy.special import softmax\n",
    "import matplotlib.pyplot as plt\n",
    "import matplotlib.dates as mdates\n",
    "import seaborn as sns"
   ]
  },
  {
   "cell_type": "code",
   "execution_count": 2,
   "id": "d603595f-cbc7-415a-a4e6-b19fc5a40c96",
   "metadata": {
    "tags": []
   },
   "outputs": [],
   "source": [
    "headlines_df = pd.read_csv('data/headlines_2018_2024.csv')\n",
    "headlines_df.set_index('date', inplace=True)\n",
    "df = headlines_df.copy()"
   ]
  },
  {
   "cell_type": "code",
   "execution_count": 3,
   "id": "e98f3a46-5810-42f4-81d6-dac04c9ab821",
   "metadata": {
    "tags": []
   },
   "outputs": [],
   "source": [
    "MODEL = f\"cardiffnlp/twitter-roberta-base-sentiment\"\n",
    "tokenizer = AutoTokenizer.from_pretrained(MODEL)\n",
    "model = AutoModelForSequenceClassification.from_pretrained(MODEL)"
   ]
  },
  {
   "cell_type": "code",
   "execution_count": 4,
   "id": "a5283610-0c5c-4dd3-baf4-5264beb25055",
   "metadata": {
    "tags": []
   },
   "outputs": [],
   "source": [
    "def aggregate_dicts_to_mean(dict_list, verbose = False):\n",
    "    sums = {key: 0.0 for key in dict_list[0].keys()}\n",
    "    counts = {key: 0 for key in dict_list[0].keys()}\n",
    "    \n",
    "    for d in dict_list:\n",
    "        for key in d.keys():\n",
    "            sums[key] += d[key]\n",
    "            counts[key] += 1\n",
    "    \n",
    "    means = {key: sums[key] / counts[key] for key in sums.keys()}\n",
    "    if verbose:\n",
    "        print(f\"{means}\")\n",
    "    return means"
   ]
  },
  {
   "cell_type": "code",
   "execution_count": 5,
   "id": "a8f87bdf-4128-420e-9c80-2cbbc4de1219",
   "metadata": {
    "tags": []
   },
   "outputs": [],
   "source": [
    "def polarity_scores_roberta(example):\n",
    "    encoded_text = tokenizer(example, return_tensors='pt')\n",
    "    output = model(**encoded_text)\n",
    "    scores = output[0][0].detach().numpy()\n",
    "    scores = softmax(scores)    \n",
    "       \n",
    "    scores_dict = {\n",
    "        'neg' : scores[0],\n",
    "        'neu' : scores[1],\n",
    "        'pos' : scores[2],\n",
    "    }\n",
    "    \n",
    "    return scores_dict"
   ]
  },
  {
   "cell_type": "code",
   "execution_count": 6,
   "id": "ae27a13f-5819-4565-9364-64ad7f1c0857",
   "metadata": {
    "tags": []
   },
   "outputs": [
    {
     "data": {
      "text/plain": [
       "'Olympic gymnast Aly Raisman confronts Larry Nassar in court'"
      ]
     },
     "execution_count": 6,
     "metadata": {},
     "output_type": "execute_result"
    }
   ],
   "source": [
    "text = df.loc['2018-01-19', 'headline']\n",
    "text"
   ]
  },
  {
   "cell_type": "code",
   "execution_count": 7,
   "id": "910f9c62-2fb4-478d-895f-6da7a2fdc09e",
   "metadata": {
    "tags": []
   },
   "outputs": [
    {
     "data": {
      "text/plain": [
       "{'neg': 0.15313382, 'neu': 0.82348144, 'pos': 0.023384677}"
      ]
     },
     "execution_count": 7,
     "metadata": {},
     "output_type": "execute_result"
    }
   ],
   "source": [
    "polarity_scores_roberta(text)"
   ]
  },
  {
   "cell_type": "code",
   "execution_count": 8,
   "id": "5bea3e80-d7a7-43f4-ba99-dc00ae6f94a6",
   "metadata": {
    "tags": []
   },
   "outputs": [],
   "source": [
    "polarity_scores = []\n",
    "max_iterations = df.shape[0]\n",
    "\n",
    "def mean_roberta_score(row):\n",
    "    \n",
    "    for i in range(max_iterations):\n",
    "        try:\n",
    "            text = row.values[i]\n",
    "            score = polarity_scores_roberta(text)\n",
    "            polarity_scores.append(score)\n",
    "\n",
    "        except RuntimeError:\n",
    "            print(f'Error with: {text} on row: {row} for index: {i}.')"
   ]
  },
  {
   "cell_type": "code",
   "execution_count": 9,
   "id": "12e5dc1c-bd30-46ef-8645-77af48108636",
   "metadata": {
    "tags": []
   },
   "outputs": [],
   "source": [
    "sentiment_df = df.apply(mean_roberta_score, axis=0)"
   ]
  },
  {
   "cell_type": "code",
   "execution_count": 10,
   "id": "d3727902-a3a9-4034-897f-147451bd0b0f",
   "metadata": {
    "tags": []
   },
   "outputs": [],
   "source": [
    "neg_vals = [m['neg'] for m in polarity_scores]\n",
    "neu_vals = [m['neu'] for m in polarity_scores]\n",
    "pos_vals = [m['pos'] for m in polarity_scores]"
   ]
  },
  {
   "cell_type": "code",
   "execution_count": 11,
   "id": "fdbf8e74-7172-48e4-b846-4f9bf8c6cf25",
   "metadata": {
    "tags": []
   },
   "outputs": [],
   "source": [
    "df['negative'] = neg_vals\n",
    "df['neutral']  = neu_vals\n",
    "df['positive'] = pos_vals"
   ]
  },
  {
   "cell_type": "code",
   "execution_count": 12,
   "id": "840672a6-b5e4-4ea5-8d33-c118aefb0948",
   "metadata": {
    "tags": []
   },
   "outputs": [],
   "source": [
    "df['sentiment'] = df[['negative', 'neutral', 'positive']].idxmax(axis=1)"
   ]
  },
  {
   "cell_type": "code",
   "execution_count": 13,
   "id": "6f652ee4-cade-4beb-82df-1af3c9e16954",
   "metadata": {
    "tags": []
   },
   "outputs": [],
   "source": [
    "df.index = pd.to_datetime(df.index)"
   ]
  },
  {
   "cell_type": "code",
   "execution_count": 14,
   "id": "d1f23d12-90af-474f-afd0-994d5d454a72",
   "metadata": {
    "tags": []
   },
   "outputs": [],
   "source": [
    "df.to_csv('data/headlines_2018_2024_daily.csv', index=True)"
   ]
  },
  {
   "cell_type": "markdown",
   "id": "8960ae5f-1cc3-4d75-9a1f-b396066d3bf1",
   "metadata": {},
   "source": [
    "# Resample Global Events To Monthly Units"
   ]
  },
  {
   "cell_type": "code",
   "execution_count": 15,
   "id": "c9cdb5ce-b65d-4352-88dc-17fd76b6d63e",
   "metadata": {
    "tags": []
   },
   "outputs": [],
   "source": [
    "monthly_df = df.copy()\n",
    "monthly_df = df.resample('M').mean(numeric_only=True)"
   ]
  },
  {
   "cell_type": "code",
   "execution_count": 16,
   "id": "c7f8df79-3801-4b31-8e5c-c6430dbdf6e6",
   "metadata": {
    "tags": []
   },
   "outputs": [],
   "source": [
    "col = 'negative'\n",
    "prev = monthly_df.loc['2018-06-30', col] \n",
    "next = monthly_df.loc['2018-08-31', col] \n",
    "monthly_df.loc['2018-07-31', col] = (prev + next)/2"
   ]
  },
  {
   "cell_type": "code",
   "execution_count": 17,
   "id": "15c23d69-67f6-4c10-b4c4-55259d27ff50",
   "metadata": {
    "tags": []
   },
   "outputs": [],
   "source": [
    "col = 'neutral'\n",
    "prev = monthly_df.loc['2018-06-30', col] \n",
    "next = monthly_df.loc['2018-08-31', col] \n",
    "monthly_df.loc['2018-07-31', col] = (prev + next)/2"
   ]
  },
  {
   "cell_type": "code",
   "execution_count": 18,
   "id": "888bd135-f14a-4c44-99c9-63cc0eb3d387",
   "metadata": {
    "tags": []
   },
   "outputs": [],
   "source": [
    "col = 'positive'\n",
    "prev = monthly_df.loc['2018-06-30', col] \n",
    "next = monthly_df.loc['2018-08-31', col] \n",
    "monthly_df.loc['2018-07-31', col] = (prev + next)/2"
   ]
  },
  {
   "cell_type": "code",
   "execution_count": 19,
   "id": "6aa7499a-0bb3-4d0b-92d4-ac23a9a1ce1f",
   "metadata": {
    "tags": []
   },
   "outputs": [],
   "source": [
    "col = 'negative'\n",
    "prev = monthly_df.loc['2024-08-31', col] \n",
    "next = monthly_df.loc['2024-10-31', col] \n",
    "monthly_df.loc['2024-09-30', col] = (prev + next)/2"
   ]
  },
  {
   "cell_type": "code",
   "execution_count": 20,
   "id": "b42e4553-fc0b-43b3-84a2-a45755a59e1b",
   "metadata": {
    "tags": []
   },
   "outputs": [],
   "source": [
    "col = 'neutral'\n",
    "prev = monthly_df.loc['2024-08-31', col] \n",
    "next = monthly_df.loc['2024-10-31', col] \n",
    "monthly_df.loc['2024-09-30', col] = (prev + next)/2"
   ]
  },
  {
   "cell_type": "code",
   "execution_count": 21,
   "id": "df319d9f-cddb-41f9-884d-919f0315c6b1",
   "metadata": {
    "tags": []
   },
   "outputs": [],
   "source": [
    "col = 'positive'\n",
    "prev = monthly_df.loc['2024-08-31', col] \n",
    "next = monthly_df.loc['2024-10-31', col] \n",
    "monthly_df.loc['2024-09-30', col] = (prev + next)/2"
   ]
  },
  {
   "cell_type": "code",
   "execution_count": 22,
   "id": "0517f002-5cef-4b9a-9709-c0cdcbc68c5a",
   "metadata": {
    "tags": []
   },
   "outputs": [],
   "source": [
    "monthly_df['sentiment'] = monthly_df[['negative', 'neutral', 'positive']].idxmax(axis=1)\n",
    "monthly_df.to_csv('data/6_headlines_2018_2024.csv', index=True)"
   ]
  }
 ],
 "metadata": {
  "kernelspec": {
   "display_name": "Python 3 (ipykernel)",
   "language": "python",
   "name": "python3"
  },
  "language_info": {
   "codemirror_mode": {
    "name": "ipython",
    "version": 3
   },
   "file_extension": ".py",
   "mimetype": "text/x-python",
   "name": "python",
   "nbconvert_exporter": "python",
   "pygments_lexer": "ipython3",
   "version": "3.11.4"
  }
 },
 "nbformat": 4,
 "nbformat_minor": 5
}
